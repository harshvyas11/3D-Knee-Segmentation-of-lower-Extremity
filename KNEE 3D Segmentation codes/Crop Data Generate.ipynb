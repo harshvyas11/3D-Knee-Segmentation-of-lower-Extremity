{
 "cells": [
  {
   "cell_type": "code",
   "execution_count": 21,
   "id": "c00b61b7-1009-4242-a487-8a2c9a8aa517",
   "metadata": {},
   "outputs": [],
   "source": [
    "import nrrd\n",
    "import os\n",
    "import pandas as pd\n",
    "import numpy as np\n",
    "from scipy.ndimage import zoom\n",
    "import csv\n",
    "import matplotlib.pyplot as plt\n",
    "from glob import glob\n",
    "from sklearn.model_selection import train_test_split\n",
    "from tensorflow.keras.layers import Input, Conv3D, MaxPooling3D, concatenate, Conv3DTranspose, BatchNormalization\n",
    "from tensorflow.keras.callbacks import EarlyStopping, ModelCheckpoint\n",
    "from tensorflow.keras import backend as K\n",
    "import tensorflow as tf\n",
    "from tensorflow import keras\n",
    "from tensorflow.keras.models import Model, load_model, save_model"
   ]
  },
  {
   "cell_type": "code",
   "execution_count": 22,
   "id": "44ab36e5-6f29-4e08-babb-f2bf7cc9708c",
   "metadata": {},
   "outputs": [],
   "source": [
    "data_path = 'F:\\\\Birva_Harsh\\\\New_nrrd'"
   ]
  },
  {
   "cell_type": "code",
   "execution_count": 23,
   "id": "4bf7b866-4c0b-41d9-9f9f-a390030aec04",
   "metadata": {},
   "outputs": [],
   "source": [
    "ct_paths = []\n",
    "\n",
    "for file in os.listdir(data_path):\n",
    "    \n",
    "    if file.endswith('.nrrd'):\n",
    "        ct_path = os.path.join(data_path, file)\n",
    "        ct_paths.append(ct_path)"
   ]
  },
  {
   "cell_type": "code",
   "execution_count": 24,
   "id": "8e345bc0-7b7b-4ee6-8018-c6b8a8afe3cb",
   "metadata": {},
   "outputs": [],
   "source": [
    "csv_paths = [path.replace('.nrrd', '.csv') for path in ct_paths]"
   ]
  },
  {
   "cell_type": "code",
   "execution_count": 25,
   "id": "62f80a03-7494-4439-abde-6fda5b9fd564",
   "metadata": {},
   "outputs": [],
   "source": [
    "def read_csv_to_dict_LM_INFO(csv_file):\n",
    "    LM_INFO = {}\n",
    "    with open(csv_file, mode='r') as infile:\n",
    "        reader = csv.reader(infile)       \n",
    "        for rows in reader:\n",
    "            LM_INFO[rows[0]] = np.asarray([float(rows[1]), float(rows[2]), float(rows[3])])\n",
    "            #print(rows[0], ':', float(rows[1]), float(rows[2]), float(rows[3]))\n",
    "            \n",
    "    return LM_INFO"
   ]
  },
  {
   "cell_type": "code",
   "execution_count": 26,
   "id": "475bbea9-4b50-451f-8bf5-9558bbaf824c",
   "metadata": {},
   "outputs": [],
   "source": [
    "def zoom_1mm(img,original_space,new_space=[1.0,1.0,1.0]):\n",
    "    zoom_factor = [original_space[i] / new_space[i] for i in range(3)]\n",
    "    zoomed_image = zoom(img, zoom_factor, order=0)\n",
    "    \n",
    "    return zoomed_image"
   ]
  },
  {
   "cell_type": "code",
   "execution_count": 27,
   "id": "0acd43de-d036-4fbd-a8be-ea869f077425",
   "metadata": {},
   "outputs": [],
   "source": [
    "def knee_centre(path, original_space):\n",
    "    KC = read_csv_to_dict_LM_INFO(path)['FKC']\n",
    "    KC_1mm = [round(original_space[i] * KC[i]) for i in range(3)]\n",
    "    \n",
    "    return KC_1mm"
   ]
  },
  {
   "cell_type": "code",
   "execution_count": 28,
   "id": "4cee4ef8-aa81-49cd-a423-ae2fe7ca18a3",
   "metadata": {},
   "outputs": [],
   "source": [
    "def CROP_3D_CT_IMAGE_AT_GIVEN_POINT_NEW_256(img, centered_at, crop_size):\n",
    "    crop_size = np.asanyarray(crop_size)\n",
    "    img = np.pad(img, ((128,128),(128,128),(128,128)),'edge')   \n",
    "\n",
    "    sp_idx = np.asarray(128+centered_at-crop_size//2,dtype=int)\n",
    "    ep_idx = np.asarray(128+centered_at+crop_size//2,dtype=int)\n",
    "       \n",
    "    return img[sp_idx[0]:ep_idx[0], sp_idx[1]:ep_idx[1], sp_idx[2]:ep_idx[2]]"
   ]
  },
  {
   "cell_type": "code",
   "execution_count": 33,
   "id": "d5a89486-1b8f-425a-bcdf-7cb2d0d17386",
   "metadata": {},
   "outputs": [],
   "source": [
    "def crop_KC(ct_paths, csv_paths, output_path):\n",
    "    for i in range(len(ct_paths)):\n",
    "        img, info = nrrd.read(ct_paths[i])\n",
    "        spc_dir = np.diag(info['space directions'])\n",
    "    \n",
    "        img_1mm = zoom_1mm(img, spc_dir)\n",
    "        KC = knee_centre(csv_paths[i], spc_dir)\n",
    "        \n",
    "        info['sizes'] = np.array([256.0,256.0,256.0])\n",
    "        info['space directions'] = np.eye(3)\n",
    "\n",
    "        crop_ct = CROP_3D_CT_IMAGE_AT_GIVEN_POINT_NEW_256(img_1mm, np.array(KC), [256,256,256])\n",
    "\n",
    "        output_img_path = os.path.join(output_path, os.path.basename(ct_paths[i]))\n",
    "        nrrd.write(output_img_path, crop_ct, info)\n",
    "        print(i)"
   ]
  },
  {
   "cell_type": "code",
   "execution_count": 34,
   "id": "35d58a62-99bb-46c0-8f80-0baf9fc3d7f4",
   "metadata": {},
   "outputs": [
    {
     "name": "stdout",
     "output_type": "stream",
     "text": [
      "0\n",
      "1\n",
      "2\n",
      "3\n",
      "4\n",
      "5\n",
      "6\n",
      "7\n",
      "8\n",
      "9\n",
      "10\n",
      "11\n",
      "12\n",
      "13\n",
      "14\n",
      "15\n",
      "16\n",
      "17\n",
      "18\n",
      "19\n",
      "20\n"
     ]
    }
   ],
   "source": [
    "crop_KC(np.array(ct_paths),np.array(csv_paths),f'F:\\\\Birva_Harsh\\\\New_nrrd_crop')"
   ]
  },
  {
   "cell_type": "code",
   "execution_count": null,
   "id": "4b989ca6-b186-40a9-b73b-baf8bd4ad9ef",
   "metadata": {},
   "outputs": [],
   "source": []
  }
 ],
 "metadata": {
  "kernelspec": {
   "display_name": "Python 3 (ipykernel)",
   "language": "python",
   "name": "python3"
  },
  "language_info": {
   "codemirror_mode": {
    "name": "ipython",
    "version": 3
   },
   "file_extension": ".py",
   "mimetype": "text/x-python",
   "name": "python",
   "nbconvert_exporter": "python",
   "pygments_lexer": "ipython3",
   "version": "3.9.16"
  }
 },
 "nbformat": 4,
 "nbformat_minor": 5
}
